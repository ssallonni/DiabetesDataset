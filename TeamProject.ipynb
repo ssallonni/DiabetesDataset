{
  "nbformat": 4,
  "nbformat_minor": 0,
  "metadata": {
    "colab": {
      "provenance": [],
      "include_colab_link": true
    },
    "kernelspec": {
      "name": "python3",
      "display_name": "Python 3"
    },
    "language_info": {
      "name": "python"
    }
  },
  "cells": [
    {
      "cell_type": "markdown",
      "metadata": {
        "id": "view-in-github",
        "colab_type": "text"
      },
      "source": [
        "<a href=\"https://colab.research.google.com/github/ssallonni/DiabetesDataset/blob/main/TeamProject.ipynb\" target=\"_parent\"><img src=\"https://colab.research.google.com/assets/colab-badge.svg\" alt=\"Open In Colab\"/></a>"
      ]
    },
    {
      "cell_type": "markdown",
      "source": [
        "# Saloni Sharma ss223472\n",
        "# Siddarth Rayapur sdr2796"
      ],
      "metadata": {
        "id": "1wPxVOyIUUco"
      }
    },
    {
      "cell_type": "markdown",
      "source": [
        "#**Project Description**"
      ],
      "metadata": {
        "id": "kSvzN5kXWX30"
      }
    },
    {
      "cell_type": "markdown",
      "source": [
        "## **Introduction:**\n",
        "Access to quick, inexpensive medical diagnostics is a major problem in many regions of the world, particularly in those where healthcare is privatized. Diabetes is a common chronic illness that needs to be managed closely from the beginning to avoid serious consequences. However, delayed diagnosis is frequently the result of high costs and restricted availability of routine medical examinations, especially for those living in underprivileged neighborhoods. This study aims to address the problem of limited access to affordable and timely medical diagnostics by creating multiple predictive algorithms that evaluate the risk of diabetes using easily accessible medical and demographic data. Our goal is to identify an algorithm that best offers a practical and cost-effective method to identify individuals at high risk of diabetes by focusing on the impacts of Body Mass Index (BMI) on diabetes outcomes, insulin levels, and glucose levels. This approach not only enhances early detection but also empowers individuals to proactively manage their health, leading to improved overall health outcomes and reduced strain on healthcare systems.\n",
        "\n",
        "## **Problem Statement:**\n",
        "This research aims to create multiple predictive algorithms that evaluate the risk of diabetes using easily accessible medical and demographic data. We hope to find an algorithm that can best offer a practical and affordable way to identify those who are at high risk of diabetes by concentrating on the relationship between BMI, Insulin levels, and glucose levels.\n",
        "\n",
        "## **Research Question:**\n",
        "What are the impacts of BMI on diabetes outcomes, insulin, and glucose levels, and which predictive model best demonstrates the strength of these relationships?\n",
        "\n",
        "## **Hypothesis:**\n",
        "Higher BMI is associated with higher glucose levels and insulin resistance, leading to an increased likelihood of diabetes. By analyzing these interactions, we can create a predictive model to identify high-risk individuals.\n",
        "\n",
        "## **Dataset Description:**\n",
        "Our dataset was sourced from the diabetes dataset on Kaggle and the The file we downloaded and used was diabetes.csv. Our Diabetes dataset holds various numerical values used to study indicators and outcomes.\n",
        "https://www.kaggle.com/datasets/mathchi/diabetes-data-set\n"
      ],
      "metadata": {
        "id": "It7YnU4wUmMU"
      }
    },
    {
      "cell_type": "markdown",
      "source": [
        "# **Part 1: Downloading the Dataser and Pre-Processing**"
      ],
      "metadata": {
        "id": "UeSBqm8yPJSW"
      }
    },
    {
      "cell_type": "code",
      "source": [
        "# import necessary packages\n",
        "import pandas as pd\n",
        "import numpy as np\n",
        "from sklearn.preprocessing import RobustScaler\n",
        "import sklearn\n",
        "from matplotlib import pyplot\n",
        "import matplotlib.pyplot as plt\n",
        "from sklearn.model_selection import train_test_split\n",
        "from sklearn.metrics import accuracy_score, confusion_matrix, classification_report\n",
        "from sklearn.linear_model import LogisticRegression\n",
        "from sklearn.naive_bayes import GaussianNB\n",
        "from sklearn.gaussian_process.kernels import RBF\n",
        "from sklearn.naive_bayes import GaussianNB\n",
        "from sklearn.neighbors import KNeighborsClassifier\n",
        "from sklearn.preprocessing import StandardScaler\n",
        "from sklearn.svm import SVC\n",
        "from sklearn.tree import DecisionTreeClassifier\n",
        "from sklearn.model_selection import cross_val_score\n",
        "from sklearn.ensemble import AdaBoostClassifier"
      ],
      "metadata": {
        "id": "4gEs17CtFizK"
      },
      "execution_count": null,
      "outputs": []
    },
    {
      "cell_type": "code",
      "execution_count": null,
      "metadata": {
        "id": "5C4JO6XrIquC",
        "colab": {
          "base_uri": "https://localhost:8080/",
          "height": 206
        },
        "outputId": "54189ae9-9466-499c-a471-ae617f49a9b7"
      },
      "outputs": [
        {
          "output_type": "execute_result",
          "data": {
            "text/plain": [
              "   Pregnancies  Glucose  BloodPressure  SkinThickness  Insulin   BMI  \\\n",
              "0            6      148             72             35        0  33.6   \n",
              "1            1       85             66             29        0  26.6   \n",
              "2            8      183             64              0        0  23.3   \n",
              "3            1       89             66             23       94  28.1   \n",
              "4            0      137             40             35      168  43.1   \n",
              "\n",
              "   DiabetesPedigreeFunction  Age  Outcome  \n",
              "0                     0.627   50        1  \n",
              "1                     0.351   31        0  \n",
              "2                     0.672   32        1  \n",
              "3                     0.167   21        0  \n",
              "4                     2.288   33        1  "
            ],
            "text/html": [
              "\n",
              "  <div id=\"df-80d08440-3960-4976-a1e5-780bdd41925b\" class=\"colab-df-container\">\n",
              "    <div>\n",
              "<style scoped>\n",
              "    .dataframe tbody tr th:only-of-type {\n",
              "        vertical-align: middle;\n",
              "    }\n",
              "\n",
              "    .dataframe tbody tr th {\n",
              "        vertical-align: top;\n",
              "    }\n",
              "\n",
              "    .dataframe thead th {\n",
              "        text-align: right;\n",
              "    }\n",
              "</style>\n",
              "<table border=\"1\" class=\"dataframe\">\n",
              "  <thead>\n",
              "    <tr style=\"text-align: right;\">\n",
              "      <th></th>\n",
              "      <th>Pregnancies</th>\n",
              "      <th>Glucose</th>\n",
              "      <th>BloodPressure</th>\n",
              "      <th>SkinThickness</th>\n",
              "      <th>Insulin</th>\n",
              "      <th>BMI</th>\n",
              "      <th>DiabetesPedigreeFunction</th>\n",
              "      <th>Age</th>\n",
              "      <th>Outcome</th>\n",
              "    </tr>\n",
              "  </thead>\n",
              "  <tbody>\n",
              "    <tr>\n",
              "      <th>0</th>\n",
              "      <td>6</td>\n",
              "      <td>148</td>\n",
              "      <td>72</td>\n",
              "      <td>35</td>\n",
              "      <td>0</td>\n",
              "      <td>33.6</td>\n",
              "      <td>0.627</td>\n",
              "      <td>50</td>\n",
              "      <td>1</td>\n",
              "    </tr>\n",
              "    <tr>\n",
              "      <th>1</th>\n",
              "      <td>1</td>\n",
              "      <td>85</td>\n",
              "      <td>66</td>\n",
              "      <td>29</td>\n",
              "      <td>0</td>\n",
              "      <td>26.6</td>\n",
              "      <td>0.351</td>\n",
              "      <td>31</td>\n",
              "      <td>0</td>\n",
              "    </tr>\n",
              "    <tr>\n",
              "      <th>2</th>\n",
              "      <td>8</td>\n",
              "      <td>183</td>\n",
              "      <td>64</td>\n",
              "      <td>0</td>\n",
              "      <td>0</td>\n",
              "      <td>23.3</td>\n",
              "      <td>0.672</td>\n",
              "      <td>32</td>\n",
              "      <td>1</td>\n",
              "    </tr>\n",
              "    <tr>\n",
              "      <th>3</th>\n",
              "      <td>1</td>\n",
              "      <td>89</td>\n",
              "      <td>66</td>\n",
              "      <td>23</td>\n",
              "      <td>94</td>\n",
              "      <td>28.1</td>\n",
              "      <td>0.167</td>\n",
              "      <td>21</td>\n",
              "      <td>0</td>\n",
              "    </tr>\n",
              "    <tr>\n",
              "      <th>4</th>\n",
              "      <td>0</td>\n",
              "      <td>137</td>\n",
              "      <td>40</td>\n",
              "      <td>35</td>\n",
              "      <td>168</td>\n",
              "      <td>43.1</td>\n",
              "      <td>2.288</td>\n",
              "      <td>33</td>\n",
              "      <td>1</td>\n",
              "    </tr>\n",
              "  </tbody>\n",
              "</table>\n",
              "</div>\n",
              "    <div class=\"colab-df-buttons\">\n",
              "\n",
              "  <div class=\"colab-df-container\">\n",
              "    <button class=\"colab-df-convert\" onclick=\"convertToInteractive('df-80d08440-3960-4976-a1e5-780bdd41925b')\"\n",
              "            title=\"Convert this dataframe to an interactive table.\"\n",
              "            style=\"display:none;\">\n",
              "\n",
              "  <svg xmlns=\"http://www.w3.org/2000/svg\" height=\"24px\" viewBox=\"0 -960 960 960\">\n",
              "    <path d=\"M120-120v-720h720v720H120Zm60-500h600v-160H180v160Zm220 220h160v-160H400v160Zm0 220h160v-160H400v160ZM180-400h160v-160H180v160Zm440 0h160v-160H620v160ZM180-180h160v-160H180v160Zm440 0h160v-160H620v160Z\"/>\n",
              "  </svg>\n",
              "    </button>\n",
              "\n",
              "  <style>\n",
              "    .colab-df-container {\n",
              "      display:flex;\n",
              "      gap: 12px;\n",
              "    }\n",
              "\n",
              "    .colab-df-convert {\n",
              "      background-color: #E8F0FE;\n",
              "      border: none;\n",
              "      border-radius: 50%;\n",
              "      cursor: pointer;\n",
              "      display: none;\n",
              "      fill: #1967D2;\n",
              "      height: 32px;\n",
              "      padding: 0 0 0 0;\n",
              "      width: 32px;\n",
              "    }\n",
              "\n",
              "    .colab-df-convert:hover {\n",
              "      background-color: #E2EBFA;\n",
              "      box-shadow: 0px 1px 2px rgba(60, 64, 67, 0.3), 0px 1px 3px 1px rgba(60, 64, 67, 0.15);\n",
              "      fill: #174EA6;\n",
              "    }\n",
              "\n",
              "    .colab-df-buttons div {\n",
              "      margin-bottom: 4px;\n",
              "    }\n",
              "\n",
              "    [theme=dark] .colab-df-convert {\n",
              "      background-color: #3B4455;\n",
              "      fill: #D2E3FC;\n",
              "    }\n",
              "\n",
              "    [theme=dark] .colab-df-convert:hover {\n",
              "      background-color: #434B5C;\n",
              "      box-shadow: 0px 1px 3px 1px rgba(0, 0, 0, 0.15);\n",
              "      filter: drop-shadow(0px 1px 2px rgba(0, 0, 0, 0.3));\n",
              "      fill: #FFFFFF;\n",
              "    }\n",
              "  </style>\n",
              "\n",
              "    <script>\n",
              "      const buttonEl =\n",
              "        document.querySelector('#df-80d08440-3960-4976-a1e5-780bdd41925b button.colab-df-convert');\n",
              "      buttonEl.style.display =\n",
              "        google.colab.kernel.accessAllowed ? 'block' : 'none';\n",
              "\n",
              "      async function convertToInteractive(key) {\n",
              "        const element = document.querySelector('#df-80d08440-3960-4976-a1e5-780bdd41925b');\n",
              "        const dataTable =\n",
              "          await google.colab.kernel.invokeFunction('convertToInteractive',\n",
              "                                                    [key], {});\n",
              "        if (!dataTable) return;\n",
              "\n",
              "        const docLinkHtml = 'Like what you see? Visit the ' +\n",
              "          '<a target=\"_blank\" href=https://colab.research.google.com/notebooks/data_table.ipynb>data table notebook</a>'\n",
              "          + ' to learn more about interactive tables.';\n",
              "        element.innerHTML = '';\n",
              "        dataTable['output_type'] = 'display_data';\n",
              "        await google.colab.output.renderOutput(dataTable, element);\n",
              "        const docLink = document.createElement('div');\n",
              "        docLink.innerHTML = docLinkHtml;\n",
              "        element.appendChild(docLink);\n",
              "      }\n",
              "    </script>\n",
              "  </div>\n",
              "\n",
              "\n",
              "<div id=\"df-6f976595-5d4d-4768-8d7e-8063b87e4657\">\n",
              "  <button class=\"colab-df-quickchart\" onclick=\"quickchart('df-6f976595-5d4d-4768-8d7e-8063b87e4657')\"\n",
              "            title=\"Suggest charts\"\n",
              "            style=\"display:none;\">\n",
              "\n",
              "<svg xmlns=\"http://www.w3.org/2000/svg\" height=\"24px\"viewBox=\"0 0 24 24\"\n",
              "     width=\"24px\">\n",
              "    <g>\n",
              "        <path d=\"M19 3H5c-1.1 0-2 .9-2 2v14c0 1.1.9 2 2 2h14c1.1 0 2-.9 2-2V5c0-1.1-.9-2-2-2zM9 17H7v-7h2v7zm4 0h-2V7h2v10zm4 0h-2v-4h2v4z\"/>\n",
              "    </g>\n",
              "</svg>\n",
              "  </button>\n",
              "\n",
              "<style>\n",
              "  .colab-df-quickchart {\n",
              "      --bg-color: #E8F0FE;\n",
              "      --fill-color: #1967D2;\n",
              "      --hover-bg-color: #E2EBFA;\n",
              "      --hover-fill-color: #174EA6;\n",
              "      --disabled-fill-color: #AAA;\n",
              "      --disabled-bg-color: #DDD;\n",
              "  }\n",
              "\n",
              "  [theme=dark] .colab-df-quickchart {\n",
              "      --bg-color: #3B4455;\n",
              "      --fill-color: #D2E3FC;\n",
              "      --hover-bg-color: #434B5C;\n",
              "      --hover-fill-color: #FFFFFF;\n",
              "      --disabled-bg-color: #3B4455;\n",
              "      --disabled-fill-color: #666;\n",
              "  }\n",
              "\n",
              "  .colab-df-quickchart {\n",
              "    background-color: var(--bg-color);\n",
              "    border: none;\n",
              "    border-radius: 50%;\n",
              "    cursor: pointer;\n",
              "    display: none;\n",
              "    fill: var(--fill-color);\n",
              "    height: 32px;\n",
              "    padding: 0;\n",
              "    width: 32px;\n",
              "  }\n",
              "\n",
              "  .colab-df-quickchart:hover {\n",
              "    background-color: var(--hover-bg-color);\n",
              "    box-shadow: 0 1px 2px rgba(60, 64, 67, 0.3), 0 1px 3px 1px rgba(60, 64, 67, 0.15);\n",
              "    fill: var(--button-hover-fill-color);\n",
              "  }\n",
              "\n",
              "  .colab-df-quickchart-complete:disabled,\n",
              "  .colab-df-quickchart-complete:disabled:hover {\n",
              "    background-color: var(--disabled-bg-color);\n",
              "    fill: var(--disabled-fill-color);\n",
              "    box-shadow: none;\n",
              "  }\n",
              "\n",
              "  .colab-df-spinner {\n",
              "    border: 2px solid var(--fill-color);\n",
              "    border-color: transparent;\n",
              "    border-bottom-color: var(--fill-color);\n",
              "    animation:\n",
              "      spin 1s steps(1) infinite;\n",
              "  }\n",
              "\n",
              "  @keyframes spin {\n",
              "    0% {\n",
              "      border-color: transparent;\n",
              "      border-bottom-color: var(--fill-color);\n",
              "      border-left-color: var(--fill-color);\n",
              "    }\n",
              "    20% {\n",
              "      border-color: transparent;\n",
              "      border-left-color: var(--fill-color);\n",
              "      border-top-color: var(--fill-color);\n",
              "    }\n",
              "    30% {\n",
              "      border-color: transparent;\n",
              "      border-left-color: var(--fill-color);\n",
              "      border-top-color: var(--fill-color);\n",
              "      border-right-color: var(--fill-color);\n",
              "    }\n",
              "    40% {\n",
              "      border-color: transparent;\n",
              "      border-right-color: var(--fill-color);\n",
              "      border-top-color: var(--fill-color);\n",
              "    }\n",
              "    60% {\n",
              "      border-color: transparent;\n",
              "      border-right-color: var(--fill-color);\n",
              "    }\n",
              "    80% {\n",
              "      border-color: transparent;\n",
              "      border-right-color: var(--fill-color);\n",
              "      border-bottom-color: var(--fill-color);\n",
              "    }\n",
              "    90% {\n",
              "      border-color: transparent;\n",
              "      border-bottom-color: var(--fill-color);\n",
              "    }\n",
              "  }\n",
              "</style>\n",
              "\n",
              "  <script>\n",
              "    async function quickchart(key) {\n",
              "      const quickchartButtonEl =\n",
              "        document.querySelector('#' + key + ' button');\n",
              "      quickchartButtonEl.disabled = true;  // To prevent multiple clicks.\n",
              "      quickchartButtonEl.classList.add('colab-df-spinner');\n",
              "      try {\n",
              "        const charts = await google.colab.kernel.invokeFunction(\n",
              "            'suggestCharts', [key], {});\n",
              "      } catch (error) {\n",
              "        console.error('Error during call to suggestCharts:', error);\n",
              "      }\n",
              "      quickchartButtonEl.classList.remove('colab-df-spinner');\n",
              "      quickchartButtonEl.classList.add('colab-df-quickchart-complete');\n",
              "    }\n",
              "    (() => {\n",
              "      let quickchartButtonEl =\n",
              "        document.querySelector('#df-6f976595-5d4d-4768-8d7e-8063b87e4657 button');\n",
              "      quickchartButtonEl.style.display =\n",
              "        google.colab.kernel.accessAllowed ? 'block' : 'none';\n",
              "    })();\n",
              "  </script>\n",
              "</div>\n",
              "\n",
              "    </div>\n",
              "  </div>\n"
            ],
            "application/vnd.google.colaboratory.intrinsic+json": {
              "type": "dataframe",
              "variable_name": "diabetes",
              "summary": "{\n  \"name\": \"diabetes\",\n  \"rows\": 768,\n  \"fields\": [\n    {\n      \"column\": \"Pregnancies\",\n      \"properties\": {\n        \"dtype\": \"number\",\n        \"std\": 3,\n        \"min\": 0,\n        \"max\": 17,\n        \"num_unique_values\": 17,\n        \"samples\": [\n          6,\n          1,\n          3\n        ],\n        \"semantic_type\": \"\",\n        \"description\": \"\"\n      }\n    },\n    {\n      \"column\": \"Glucose\",\n      \"properties\": {\n        \"dtype\": \"number\",\n        \"std\": 31,\n        \"min\": 0,\n        \"max\": 199,\n        \"num_unique_values\": 136,\n        \"samples\": [\n          151,\n          101,\n          112\n        ],\n        \"semantic_type\": \"\",\n        \"description\": \"\"\n      }\n    },\n    {\n      \"column\": \"BloodPressure\",\n      \"properties\": {\n        \"dtype\": \"number\",\n        \"std\": 19,\n        \"min\": 0,\n        \"max\": 122,\n        \"num_unique_values\": 47,\n        \"samples\": [\n          86,\n          46,\n          85\n        ],\n        \"semantic_type\": \"\",\n        \"description\": \"\"\n      }\n    },\n    {\n      \"column\": \"SkinThickness\",\n      \"properties\": {\n        \"dtype\": \"number\",\n        \"std\": 15,\n        \"min\": 0,\n        \"max\": 99,\n        \"num_unique_values\": 51,\n        \"samples\": [\n          7,\n          12,\n          48\n        ],\n        \"semantic_type\": \"\",\n        \"description\": \"\"\n      }\n    },\n    {\n      \"column\": \"Insulin\",\n      \"properties\": {\n        \"dtype\": \"number\",\n        \"std\": 115,\n        \"min\": 0,\n        \"max\": 846,\n        \"num_unique_values\": 186,\n        \"samples\": [\n          52,\n          41,\n          183\n        ],\n        \"semantic_type\": \"\",\n        \"description\": \"\"\n      }\n    },\n    {\n      \"column\": \"BMI\",\n      \"properties\": {\n        \"dtype\": \"number\",\n        \"std\": 7.884160320375446,\n        \"min\": 0.0,\n        \"max\": 67.1,\n        \"num_unique_values\": 248,\n        \"samples\": [\n          19.9,\n          31.0,\n          38.1\n        ],\n        \"semantic_type\": \"\",\n        \"description\": \"\"\n      }\n    },\n    {\n      \"column\": \"DiabetesPedigreeFunction\",\n      \"properties\": {\n        \"dtype\": \"number\",\n        \"std\": 0.3313285950127749,\n        \"min\": 0.078,\n        \"max\": 2.42,\n        \"num_unique_values\": 517,\n        \"samples\": [\n          1.731,\n          0.426,\n          0.138\n        ],\n        \"semantic_type\": \"\",\n        \"description\": \"\"\n      }\n    },\n    {\n      \"column\": \"Age\",\n      \"properties\": {\n        \"dtype\": \"number\",\n        \"std\": 11,\n        \"min\": 21,\n        \"max\": 81,\n        \"num_unique_values\": 52,\n        \"samples\": [\n          60,\n          47,\n          72\n        ],\n        \"semantic_type\": \"\",\n        \"description\": \"\"\n      }\n    },\n    {\n      \"column\": \"Outcome\",\n      \"properties\": {\n        \"dtype\": \"number\",\n        \"std\": 0,\n        \"min\": 0,\n        \"max\": 1,\n        \"num_unique_values\": 2,\n        \"samples\": [\n          0,\n          1\n        ],\n        \"semantic_type\": \"\",\n        \"description\": \"\"\n      }\n    }\n  ]\n}"
            }
          },
          "metadata": {},
          "execution_count": 25
        }
      ],
      "source": [
        "# load the Diabetes dataset\n",
        "diabetes =  pd.read_csv(\"diabetes_data.csv\")\n",
        "\n",
        "# view dataset head\n",
        "diabetes.head()\n"
      ]
    },
    {
      "cell_type": "code",
      "source": [
        "# obtain descriptive statistics for feature columns to determine outliers\n",
        "diabetes.describe()[[\"Pregnancies\",\"Glucose\",\"SkinThickness\",\"Insulin\",\"BMI\",\"DiabetesPedigreeFunction\",\"Age\"]]"
      ],
      "metadata": {
        "colab": {
          "base_uri": "https://localhost:8080/",
          "height": 300
        },
        "id": "VIFj3wytGCzG",
        "outputId": "0555e300-957d-4ac8-a1aa-1dedd91b548d"
      },
      "execution_count": null,
      "outputs": [
        {
          "output_type": "execute_result",
          "data": {
            "text/plain": [
              "       Pregnancies     Glucose  SkinThickness     Insulin         BMI  \\\n",
              "count   768.000000  768.000000     768.000000  768.000000  768.000000   \n",
              "mean      3.845052  120.894531      20.536458   79.799479   31.992578   \n",
              "std       3.369578   31.972618      15.952218  115.244002    7.884160   \n",
              "min       0.000000    0.000000       0.000000    0.000000    0.000000   \n",
              "25%       1.000000   99.000000       0.000000    0.000000   27.300000   \n",
              "50%       3.000000  117.000000      23.000000   30.500000   32.000000   \n",
              "75%       6.000000  140.250000      32.000000  127.250000   36.600000   \n",
              "max      17.000000  199.000000      99.000000  846.000000   67.100000   \n",
              "\n",
              "       DiabetesPedigreeFunction         Age  \n",
              "count                768.000000  768.000000  \n",
              "mean                   0.471876   33.240885  \n",
              "std                    0.331329   11.760232  \n",
              "min                    0.078000   21.000000  \n",
              "25%                    0.243750   24.000000  \n",
              "50%                    0.372500   29.000000  \n",
              "75%                    0.626250   41.000000  \n",
              "max                    2.420000   81.000000  "
            ],
            "text/html": [
              "\n",
              "  <div id=\"df-7c749275-03da-444a-9b75-702c36f48a02\" class=\"colab-df-container\">\n",
              "    <div>\n",
              "<style scoped>\n",
              "    .dataframe tbody tr th:only-of-type {\n",
              "        vertical-align: middle;\n",
              "    }\n",
              "\n",
              "    .dataframe tbody tr th {\n",
              "        vertical-align: top;\n",
              "    }\n",
              "\n",
              "    .dataframe thead th {\n",
              "        text-align: right;\n",
              "    }\n",
              "</style>\n",
              "<table border=\"1\" class=\"dataframe\">\n",
              "  <thead>\n",
              "    <tr style=\"text-align: right;\">\n",
              "      <th></th>\n",
              "      <th>Pregnancies</th>\n",
              "      <th>Glucose</th>\n",
              "      <th>SkinThickness</th>\n",
              "      <th>Insulin</th>\n",
              "      <th>BMI</th>\n",
              "      <th>DiabetesPedigreeFunction</th>\n",
              "      <th>Age</th>\n",
              "    </tr>\n",
              "  </thead>\n",
              "  <tbody>\n",
              "    <tr>\n",
              "      <th>count</th>\n",
              "      <td>768.000000</td>\n",
              "      <td>768.000000</td>\n",
              "      <td>768.000000</td>\n",
              "      <td>768.000000</td>\n",
              "      <td>768.000000</td>\n",
              "      <td>768.000000</td>\n",
              "      <td>768.000000</td>\n",
              "    </tr>\n",
              "    <tr>\n",
              "      <th>mean</th>\n",
              "      <td>3.845052</td>\n",
              "      <td>120.894531</td>\n",
              "      <td>20.536458</td>\n",
              "      <td>79.799479</td>\n",
              "      <td>31.992578</td>\n",
              "      <td>0.471876</td>\n",
              "      <td>33.240885</td>\n",
              "    </tr>\n",
              "    <tr>\n",
              "      <th>std</th>\n",
              "      <td>3.369578</td>\n",
              "      <td>31.972618</td>\n",
              "      <td>15.952218</td>\n",
              "      <td>115.244002</td>\n",
              "      <td>7.884160</td>\n",
              "      <td>0.331329</td>\n",
              "      <td>11.760232</td>\n",
              "    </tr>\n",
              "    <tr>\n",
              "      <th>min</th>\n",
              "      <td>0.000000</td>\n",
              "      <td>0.000000</td>\n",
              "      <td>0.000000</td>\n",
              "      <td>0.000000</td>\n",
              "      <td>0.000000</td>\n",
              "      <td>0.078000</td>\n",
              "      <td>21.000000</td>\n",
              "    </tr>\n",
              "    <tr>\n",
              "      <th>25%</th>\n",
              "      <td>1.000000</td>\n",
              "      <td>99.000000</td>\n",
              "      <td>0.000000</td>\n",
              "      <td>0.000000</td>\n",
              "      <td>27.300000</td>\n",
              "      <td>0.243750</td>\n",
              "      <td>24.000000</td>\n",
              "    </tr>\n",
              "    <tr>\n",
              "      <th>50%</th>\n",
              "      <td>3.000000</td>\n",
              "      <td>117.000000</td>\n",
              "      <td>23.000000</td>\n",
              "      <td>30.500000</td>\n",
              "      <td>32.000000</td>\n",
              "      <td>0.372500</td>\n",
              "      <td>29.000000</td>\n",
              "    </tr>\n",
              "    <tr>\n",
              "      <th>75%</th>\n",
              "      <td>6.000000</td>\n",
              "      <td>140.250000</td>\n",
              "      <td>32.000000</td>\n",
              "      <td>127.250000</td>\n",
              "      <td>36.600000</td>\n",
              "      <td>0.626250</td>\n",
              "      <td>41.000000</td>\n",
              "    </tr>\n",
              "    <tr>\n",
              "      <th>max</th>\n",
              "      <td>17.000000</td>\n",
              "      <td>199.000000</td>\n",
              "      <td>99.000000</td>\n",
              "      <td>846.000000</td>\n",
              "      <td>67.100000</td>\n",
              "      <td>2.420000</td>\n",
              "      <td>81.000000</td>\n",
              "    </tr>\n",
              "  </tbody>\n",
              "</table>\n",
              "</div>\n",
              "    <div class=\"colab-df-buttons\">\n",
              "\n",
              "  <div class=\"colab-df-container\">\n",
              "    <button class=\"colab-df-convert\" onclick=\"convertToInteractive('df-7c749275-03da-444a-9b75-702c36f48a02')\"\n",
              "            title=\"Convert this dataframe to an interactive table.\"\n",
              "            style=\"display:none;\">\n",
              "\n",
              "  <svg xmlns=\"http://www.w3.org/2000/svg\" height=\"24px\" viewBox=\"0 -960 960 960\">\n",
              "    <path d=\"M120-120v-720h720v720H120Zm60-500h600v-160H180v160Zm220 220h160v-160H400v160Zm0 220h160v-160H400v160ZM180-400h160v-160H180v160Zm440 0h160v-160H620v160ZM180-180h160v-160H180v160Zm440 0h160v-160H620v160Z\"/>\n",
              "  </svg>\n",
              "    </button>\n",
              "\n",
              "  <style>\n",
              "    .colab-df-container {\n",
              "      display:flex;\n",
              "      gap: 12px;\n",
              "    }\n",
              "\n",
              "    .colab-df-convert {\n",
              "      background-color: #E8F0FE;\n",
              "      border: none;\n",
              "      border-radius: 50%;\n",
              "      cursor: pointer;\n",
              "      display: none;\n",
              "      fill: #1967D2;\n",
              "      height: 32px;\n",
              "      padding: 0 0 0 0;\n",
              "      width: 32px;\n",
              "    }\n",
              "\n",
              "    .colab-df-convert:hover {\n",
              "      background-color: #E2EBFA;\n",
              "      box-shadow: 0px 1px 2px rgba(60, 64, 67, 0.3), 0px 1px 3px 1px rgba(60, 64, 67, 0.15);\n",
              "      fill: #174EA6;\n",
              "    }\n",
              "\n",
              "    .colab-df-buttons div {\n",
              "      margin-bottom: 4px;\n",
              "    }\n",
              "\n",
              "    [theme=dark] .colab-df-convert {\n",
              "      background-color: #3B4455;\n",
              "      fill: #D2E3FC;\n",
              "    }\n",
              "\n",
              "    [theme=dark] .colab-df-convert:hover {\n",
              "      background-color: #434B5C;\n",
              "      box-shadow: 0px 1px 3px 1px rgba(0, 0, 0, 0.15);\n",
              "      filter: drop-shadow(0px 1px 2px rgba(0, 0, 0, 0.3));\n",
              "      fill: #FFFFFF;\n",
              "    }\n",
              "  </style>\n",
              "\n",
              "    <script>\n",
              "      const buttonEl =\n",
              "        document.querySelector('#df-7c749275-03da-444a-9b75-702c36f48a02 button.colab-df-convert');\n",
              "      buttonEl.style.display =\n",
              "        google.colab.kernel.accessAllowed ? 'block' : 'none';\n",
              "\n",
              "      async function convertToInteractive(key) {\n",
              "        const element = document.querySelector('#df-7c749275-03da-444a-9b75-702c36f48a02');\n",
              "        const dataTable =\n",
              "          await google.colab.kernel.invokeFunction('convertToInteractive',\n",
              "                                                    [key], {});\n",
              "        if (!dataTable) return;\n",
              "\n",
              "        const docLinkHtml = 'Like what you see? Visit the ' +\n",
              "          '<a target=\"_blank\" href=https://colab.research.google.com/notebooks/data_table.ipynb>data table notebook</a>'\n",
              "          + ' to learn more about interactive tables.';\n",
              "        element.innerHTML = '';\n",
              "        dataTable['output_type'] = 'display_data';\n",
              "        await google.colab.output.renderOutput(dataTable, element);\n",
              "        const docLink = document.createElement('div');\n",
              "        docLink.innerHTML = docLinkHtml;\n",
              "        element.appendChild(docLink);\n",
              "      }\n",
              "    </script>\n",
              "  </div>\n",
              "\n",
              "\n",
              "<div id=\"df-eec715b8-0335-4569-bbfb-09b0c86df680\">\n",
              "  <button class=\"colab-df-quickchart\" onclick=\"quickchart('df-eec715b8-0335-4569-bbfb-09b0c86df680')\"\n",
              "            title=\"Suggest charts\"\n",
              "            style=\"display:none;\">\n",
              "\n",
              "<svg xmlns=\"http://www.w3.org/2000/svg\" height=\"24px\"viewBox=\"0 0 24 24\"\n",
              "     width=\"24px\">\n",
              "    <g>\n",
              "        <path d=\"M19 3H5c-1.1 0-2 .9-2 2v14c0 1.1.9 2 2 2h14c1.1 0 2-.9 2-2V5c0-1.1-.9-2-2-2zM9 17H7v-7h2v7zm4 0h-2V7h2v10zm4 0h-2v-4h2v4z\"/>\n",
              "    </g>\n",
              "</svg>\n",
              "  </button>\n",
              "\n",
              "<style>\n",
              "  .colab-df-quickchart {\n",
              "      --bg-color: #E8F0FE;\n",
              "      --fill-color: #1967D2;\n",
              "      --hover-bg-color: #E2EBFA;\n",
              "      --hover-fill-color: #174EA6;\n",
              "      --disabled-fill-color: #AAA;\n",
              "      --disabled-bg-color: #DDD;\n",
              "  }\n",
              "\n",
              "  [theme=dark] .colab-df-quickchart {\n",
              "      --bg-color: #3B4455;\n",
              "      --fill-color: #D2E3FC;\n",
              "      --hover-bg-color: #434B5C;\n",
              "      --hover-fill-color: #FFFFFF;\n",
              "      --disabled-bg-color: #3B4455;\n",
              "      --disabled-fill-color: #666;\n",
              "  }\n",
              "\n",
              "  .colab-df-quickchart {\n",
              "    background-color: var(--bg-color);\n",
              "    border: none;\n",
              "    border-radius: 50%;\n",
              "    cursor: pointer;\n",
              "    display: none;\n",
              "    fill: var(--fill-color);\n",
              "    height: 32px;\n",
              "    padding: 0;\n",
              "    width: 32px;\n",
              "  }\n",
              "\n",
              "  .colab-df-quickchart:hover {\n",
              "    background-color: var(--hover-bg-color);\n",
              "    box-shadow: 0 1px 2px rgba(60, 64, 67, 0.3), 0 1px 3px 1px rgba(60, 64, 67, 0.15);\n",
              "    fill: var(--button-hover-fill-color);\n",
              "  }\n",
              "\n",
              "  .colab-df-quickchart-complete:disabled,\n",
              "  .colab-df-quickchart-complete:disabled:hover {\n",
              "    background-color: var(--disabled-bg-color);\n",
              "    fill: var(--disabled-fill-color);\n",
              "    box-shadow: none;\n",
              "  }\n",
              "\n",
              "  .colab-df-spinner {\n",
              "    border: 2px solid var(--fill-color);\n",
              "    border-color: transparent;\n",
              "    border-bottom-color: var(--fill-color);\n",
              "    animation:\n",
              "      spin 1s steps(1) infinite;\n",
              "  }\n",
              "\n",
              "  @keyframes spin {\n",
              "    0% {\n",
              "      border-color: transparent;\n",
              "      border-bottom-color: var(--fill-color);\n",
              "      border-left-color: var(--fill-color);\n",
              "    }\n",
              "    20% {\n",
              "      border-color: transparent;\n",
              "      border-left-color: var(--fill-color);\n",
              "      border-top-color: var(--fill-color);\n",
              "    }\n",
              "    30% {\n",
              "      border-color: transparent;\n",
              "      border-left-color: var(--fill-color);\n",
              "      border-top-color: var(--fill-color);\n",
              "      border-right-color: var(--fill-color);\n",
              "    }\n",
              "    40% {\n",
              "      border-color: transparent;\n",
              "      border-right-color: var(--fill-color);\n",
              "      border-top-color: var(--fill-color);\n",
              "    }\n",
              "    60% {\n",
              "      border-color: transparent;\n",
              "      border-right-color: var(--fill-color);\n",
              "    }\n",
              "    80% {\n",
              "      border-color: transparent;\n",
              "      border-right-color: var(--fill-color);\n",
              "      border-bottom-color: var(--fill-color);\n",
              "    }\n",
              "    90% {\n",
              "      border-color: transparent;\n",
              "      border-bottom-color: var(--fill-color);\n",
              "    }\n",
              "  }\n",
              "</style>\n",
              "\n",
              "  <script>\n",
              "    async function quickchart(key) {\n",
              "      const quickchartButtonEl =\n",
              "        document.querySelector('#' + key + ' button');\n",
              "      quickchartButtonEl.disabled = true;  // To prevent multiple clicks.\n",
              "      quickchartButtonEl.classList.add('colab-df-spinner');\n",
              "      try {\n",
              "        const charts = await google.colab.kernel.invokeFunction(\n",
              "            'suggestCharts', [key], {});\n",
              "      } catch (error) {\n",
              "        console.error('Error during call to suggestCharts:', error);\n",
              "      }\n",
              "      quickchartButtonEl.classList.remove('colab-df-spinner');\n",
              "      quickchartButtonEl.classList.add('colab-df-quickchart-complete');\n",
              "    }\n",
              "    (() => {\n",
              "      let quickchartButtonEl =\n",
              "        document.querySelector('#df-eec715b8-0335-4569-bbfb-09b0c86df680 button');\n",
              "      quickchartButtonEl.style.display =\n",
              "        google.colab.kernel.accessAllowed ? 'block' : 'none';\n",
              "    })();\n",
              "  </script>\n",
              "</div>\n",
              "\n",
              "    </div>\n",
              "  </div>\n"
            ],
            "application/vnd.google.colaboratory.intrinsic+json": {
              "type": "dataframe",
              "summary": "{\n  \"name\": \"diabetes\",\n  \"rows\": 8,\n  \"fields\": [\n    {\n      \"column\": \"Pregnancies\",\n      \"properties\": {\n        \"dtype\": \"number\",\n        \"std\": 269.85223453356366,\n        \"min\": 0.0,\n        \"max\": 768.0,\n        \"num_unique_values\": 8,\n        \"samples\": [\n          3.8450520833333335,\n          3.0,\n          768.0\n        ],\n        \"semantic_type\": \"\",\n        \"description\": \"\"\n      }\n    },\n    {\n      \"column\": \"Glucose\",\n      \"properties\": {\n        \"dtype\": \"number\",\n        \"std\": 243.73802348295857,\n        \"min\": 0.0,\n        \"max\": 768.0,\n        \"num_unique_values\": 8,\n        \"samples\": [\n          120.89453125,\n          117.0,\n          768.0\n        ],\n        \"semantic_type\": \"\",\n        \"description\": \"\"\n      }\n    },\n    {\n      \"column\": \"SkinThickness\",\n      \"properties\": {\n        \"dtype\": \"number\",\n        \"std\": 263.7684730531098,\n        \"min\": 0.0,\n        \"max\": 768.0,\n        \"num_unique_values\": 7,\n        \"samples\": [\n          768.0,\n          20.536458333333332,\n          32.0\n        ],\n        \"semantic_type\": \"\",\n        \"description\": \"\"\n      }\n    },\n    {\n      \"column\": \"Insulin\",\n      \"properties\": {\n        \"dtype\": \"number\",\n        \"std\": 350.26059167945886,\n        \"min\": 0.0,\n        \"max\": 846.0,\n        \"num_unique_values\": 7,\n        \"samples\": [\n          768.0,\n          79.79947916666667,\n          127.25\n        ],\n        \"semantic_type\": \"\",\n        \"description\": \"\"\n      }\n    },\n    {\n      \"column\": \"BMI\",\n      \"properties\": {\n        \"dtype\": \"number\",\n        \"std\": 262.05117817552093,\n        \"min\": 0.0,\n        \"max\": 768.0,\n        \"num_unique_values\": 8,\n        \"samples\": [\n          31.992578124999998,\n          32.0,\n          768.0\n        ],\n        \"semantic_type\": \"\",\n        \"description\": \"\"\n      }\n    },\n    {\n      \"column\": \"DiabetesPedigreeFunction\",\n      \"properties\": {\n        \"dtype\": \"number\",\n        \"std\": 271.3005221658502,\n        \"min\": 0.078,\n        \"max\": 768.0,\n        \"num_unique_values\": 8,\n        \"samples\": [\n          0.47187630208333325,\n          0.3725,\n          768.0\n        ],\n        \"semantic_type\": \"\",\n        \"description\": \"\"\n      }\n    },\n    {\n      \"column\": \"Age\",\n      \"properties\": {\n        \"dtype\": \"number\",\n        \"std\": 260.1941178528413,\n        \"min\": 11.760231540678685,\n        \"max\": 768.0,\n        \"num_unique_values\": 8,\n        \"samples\": [\n          33.240885416666664,\n          29.0,\n          768.0\n        ],\n        \"semantic_type\": \"\",\n        \"description\": \"\"\n      }\n    }\n  ]\n}"
            }
          },
          "metadata": {},
          "execution_count": 26
        }
      ]
    },
    {
      "cell_type": "markdown",
      "source": [
        "#Pre-processing:\n",
        "We started the preprocessing of the data by eliminating null values and duplicates. Our features and labels were all quantitative, thus one-hot encoding was not required. Since a robust scaler is less susceptible to outliers than a standard scaler and a min-max scaler, we decided to use it instead. By using this method, we were able to preserve the original range of our data, which led to more accurate outcomes from our several machine learning models.\n"
      ],
      "metadata": {
        "id": "k6pQKGI6Hs6R"
      }
    },
    {
      "cell_type": "code",
      "source": [
        "# drop duplicates and na values\n",
        "diabetes = diabetes.drop_duplicates()\n",
        "diabetes = diabetes.dropna()"
      ],
      "metadata": {
        "id": "PR8XhkkPGIKV"
      },
      "execution_count": null,
      "outputs": []
    },
    {
      "cell_type": "code",
      "source": [
        "# create feature df and label df\n",
        "diabetes_features = diabetes[[\"Pregnancies\",\"Glucose\",\"SkinThickness\",\"Insulin\",\"BMI\",\"DiabetesPedigreeFunction\",\"Age\"]]\n",
        "diabetes_label = diabetes[[\"Outcome\"]]"
      ],
      "metadata": {
        "id": "-zLmfa9mGLGb"
      },
      "execution_count": null,
      "outputs": []
    },
    {
      "cell_type": "code",
      "source": [
        "# use Robust Scaler to scale features\n",
        "scaler = RobustScaler()\n",
        "diabetes_features_scaled = scaler.fit_transform(diabetes_features.to_numpy())\n",
        "diabetes_features_scaled = pd.DataFrame(diabetes_features_scaled, columns=[[\"Pregnancies\",\"Glucose\",\"SkinThickness\",\"Insulin\",\"BMI\",\"DiabetesPedigreeFunction\",\"Age\"]])\n",
        "diabetes_features_scaled.head()"
      ],
      "metadata": {
        "colab": {
          "base_uri": "https://localhost:8080/",
          "height": 206
        },
        "id": "RkUP49URGW_R",
        "outputId": "1c6dfa2a-ba78-4e09-d454-28e49c9d2a7b"
      },
      "execution_count": null,
      "outputs": [
        {
          "output_type": "execute_result",
          "data": {
            "text/plain": [
              "  Pregnancies   Glucose SkinThickness   Insulin       BMI  \\\n",
              "0         0.6  0.751515       0.37500 -0.239686  0.172043   \n",
              "1        -0.4 -0.775758       0.18750 -0.239686 -0.580645   \n",
              "2         1.0  1.600000      -0.71875 -0.239686 -0.935484   \n",
              "3        -0.4 -0.678788       0.00000  0.499018 -0.419355   \n",
              "4        -0.6  0.484848       0.37500  1.080550  1.193548   \n",
              "\n",
              "  DiabetesPedigreeFunction       Age  \n",
              "0                 0.665359  1.235294  \n",
              "1                -0.056209  0.117647  \n",
              "2                 0.783007  0.176471  \n",
              "3                -0.537255 -0.470588  \n",
              "4                 5.007843  0.235294  "
            ],
            "text/html": [
              "\n",
              "  <div id=\"df-f894f89d-9a9d-4744-96c0-80d211c7c1d3\" class=\"colab-df-container\">\n",
              "    <div>\n",
              "<style scoped>\n",
              "    .dataframe tbody tr th:only-of-type {\n",
              "        vertical-align: middle;\n",
              "    }\n",
              "\n",
              "    .dataframe tbody tr th {\n",
              "        vertical-align: top;\n",
              "    }\n",
              "\n",
              "    .dataframe thead tr th {\n",
              "        text-align: left;\n",
              "    }\n",
              "</style>\n",
              "<table border=\"1\" class=\"dataframe\">\n",
              "  <thead>\n",
              "    <tr>\n",
              "      <th></th>\n",
              "      <th>Pregnancies</th>\n",
              "      <th>Glucose</th>\n",
              "      <th>SkinThickness</th>\n",
              "      <th>Insulin</th>\n",
              "      <th>BMI</th>\n",
              "      <th>DiabetesPedigreeFunction</th>\n",
              "      <th>Age</th>\n",
              "    </tr>\n",
              "  </thead>\n",
              "  <tbody>\n",
              "    <tr>\n",
              "      <th>0</th>\n",
              "      <td>0.6</td>\n",
              "      <td>0.751515</td>\n",
              "      <td>0.37500</td>\n",
              "      <td>-0.239686</td>\n",
              "      <td>0.172043</td>\n",
              "      <td>0.665359</td>\n",
              "      <td>1.235294</td>\n",
              "    </tr>\n",
              "    <tr>\n",
              "      <th>1</th>\n",
              "      <td>-0.4</td>\n",
              "      <td>-0.775758</td>\n",
              "      <td>0.18750</td>\n",
              "      <td>-0.239686</td>\n",
              "      <td>-0.580645</td>\n",
              "      <td>-0.056209</td>\n",
              "      <td>0.117647</td>\n",
              "    </tr>\n",
              "    <tr>\n",
              "      <th>2</th>\n",
              "      <td>1.0</td>\n",
              "      <td>1.600000</td>\n",
              "      <td>-0.71875</td>\n",
              "      <td>-0.239686</td>\n",
              "      <td>-0.935484</td>\n",
              "      <td>0.783007</td>\n",
              "      <td>0.176471</td>\n",
              "    </tr>\n",
              "    <tr>\n",
              "      <th>3</th>\n",
              "      <td>-0.4</td>\n",
              "      <td>-0.678788</td>\n",
              "      <td>0.00000</td>\n",
              "      <td>0.499018</td>\n",
              "      <td>-0.419355</td>\n",
              "      <td>-0.537255</td>\n",
              "      <td>-0.470588</td>\n",
              "    </tr>\n",
              "    <tr>\n",
              "      <th>4</th>\n",
              "      <td>-0.6</td>\n",
              "      <td>0.484848</td>\n",
              "      <td>0.37500</td>\n",
              "      <td>1.080550</td>\n",
              "      <td>1.193548</td>\n",
              "      <td>5.007843</td>\n",
              "      <td>0.235294</td>\n",
              "    </tr>\n",
              "  </tbody>\n",
              "</table>\n",
              "</div>\n",
              "    <div class=\"colab-df-buttons\">\n",
              "\n",
              "  <div class=\"colab-df-container\">\n",
              "    <button class=\"colab-df-convert\" onclick=\"convertToInteractive('df-f894f89d-9a9d-4744-96c0-80d211c7c1d3')\"\n",
              "            title=\"Convert this dataframe to an interactive table.\"\n",
              "            style=\"display:none;\">\n",
              "\n",
              "  <svg xmlns=\"http://www.w3.org/2000/svg\" height=\"24px\" viewBox=\"0 -960 960 960\">\n",
              "    <path d=\"M120-120v-720h720v720H120Zm60-500h600v-160H180v160Zm220 220h160v-160H400v160Zm0 220h160v-160H400v160ZM180-400h160v-160H180v160Zm440 0h160v-160H620v160ZM180-180h160v-160H180v160Zm440 0h160v-160H620v160Z\"/>\n",
              "  </svg>\n",
              "    </button>\n",
              "\n",
              "  <style>\n",
              "    .colab-df-container {\n",
              "      display:flex;\n",
              "      gap: 12px;\n",
              "    }\n",
              "\n",
              "    .colab-df-convert {\n",
              "      background-color: #E8F0FE;\n",
              "      border: none;\n",
              "      border-radius: 50%;\n",
              "      cursor: pointer;\n",
              "      display: none;\n",
              "      fill: #1967D2;\n",
              "      height: 32px;\n",
              "      padding: 0 0 0 0;\n",
              "      width: 32px;\n",
              "    }\n",
              "\n",
              "    .colab-df-convert:hover {\n",
              "      background-color: #E2EBFA;\n",
              "      box-shadow: 0px 1px 2px rgba(60, 64, 67, 0.3), 0px 1px 3px 1px rgba(60, 64, 67, 0.15);\n",
              "      fill: #174EA6;\n",
              "    }\n",
              "\n",
              "    .colab-df-buttons div {\n",
              "      margin-bottom: 4px;\n",
              "    }\n",
              "\n",
              "    [theme=dark] .colab-df-convert {\n",
              "      background-color: #3B4455;\n",
              "      fill: #D2E3FC;\n",
              "    }\n",
              "\n",
              "    [theme=dark] .colab-df-convert:hover {\n",
              "      background-color: #434B5C;\n",
              "      box-shadow: 0px 1px 3px 1px rgba(0, 0, 0, 0.15);\n",
              "      filter: drop-shadow(0px 1px 2px rgba(0, 0, 0, 0.3));\n",
              "      fill: #FFFFFF;\n",
              "    }\n",
              "  </style>\n",
              "\n",
              "    <script>\n",
              "      const buttonEl =\n",
              "        document.querySelector('#df-f894f89d-9a9d-4744-96c0-80d211c7c1d3 button.colab-df-convert');\n",
              "      buttonEl.style.display =\n",
              "        google.colab.kernel.accessAllowed ? 'block' : 'none';\n",
              "\n",
              "      async function convertToInteractive(key) {\n",
              "        const element = document.querySelector('#df-f894f89d-9a9d-4744-96c0-80d211c7c1d3');\n",
              "        const dataTable =\n",
              "          await google.colab.kernel.invokeFunction('convertToInteractive',\n",
              "                                                    [key], {});\n",
              "        if (!dataTable) return;\n",
              "\n",
              "        const docLinkHtml = 'Like what you see? Visit the ' +\n",
              "          '<a target=\"_blank\" href=https://colab.research.google.com/notebooks/data_table.ipynb>data table notebook</a>'\n",
              "          + ' to learn more about interactive tables.';\n",
              "        element.innerHTML = '';\n",
              "        dataTable['output_type'] = 'display_data';\n",
              "        await google.colab.output.renderOutput(dataTable, element);\n",
              "        const docLink = document.createElement('div');\n",
              "        docLink.innerHTML = docLinkHtml;\n",
              "        element.appendChild(docLink);\n",
              "      }\n",
              "    </script>\n",
              "  </div>\n",
              "\n",
              "\n",
              "<div id=\"df-00bf8f2c-2ba7-4f45-ae5a-c645b77fa6c3\">\n",
              "  <button class=\"colab-df-quickchart\" onclick=\"quickchart('df-00bf8f2c-2ba7-4f45-ae5a-c645b77fa6c3')\"\n",
              "            title=\"Suggest charts\"\n",
              "            style=\"display:none;\">\n",
              "\n",
              "<svg xmlns=\"http://www.w3.org/2000/svg\" height=\"24px\"viewBox=\"0 0 24 24\"\n",
              "     width=\"24px\">\n",
              "    <g>\n",
              "        <path d=\"M19 3H5c-1.1 0-2 .9-2 2v14c0 1.1.9 2 2 2h14c1.1 0 2-.9 2-2V5c0-1.1-.9-2-2-2zM9 17H7v-7h2v7zm4 0h-2V7h2v10zm4 0h-2v-4h2v4z\"/>\n",
              "    </g>\n",
              "</svg>\n",
              "  </button>\n",
              "\n",
              "<style>\n",
              "  .colab-df-quickchart {\n",
              "      --bg-color: #E8F0FE;\n",
              "      --fill-color: #1967D2;\n",
              "      --hover-bg-color: #E2EBFA;\n",
              "      --hover-fill-color: #174EA6;\n",
              "      --disabled-fill-color: #AAA;\n",
              "      --disabled-bg-color: #DDD;\n",
              "  }\n",
              "\n",
              "  [theme=dark] .colab-df-quickchart {\n",
              "      --bg-color: #3B4455;\n",
              "      --fill-color: #D2E3FC;\n",
              "      --hover-bg-color: #434B5C;\n",
              "      --hover-fill-color: #FFFFFF;\n",
              "      --disabled-bg-color: #3B4455;\n",
              "      --disabled-fill-color: #666;\n",
              "  }\n",
              "\n",
              "  .colab-df-quickchart {\n",
              "    background-color: var(--bg-color);\n",
              "    border: none;\n",
              "    border-radius: 50%;\n",
              "    cursor: pointer;\n",
              "    display: none;\n",
              "    fill: var(--fill-color);\n",
              "    height: 32px;\n",
              "    padding: 0;\n",
              "    width: 32px;\n",
              "  }\n",
              "\n",
              "  .colab-df-quickchart:hover {\n",
              "    background-color: var(--hover-bg-color);\n",
              "    box-shadow: 0 1px 2px rgba(60, 64, 67, 0.3), 0 1px 3px 1px rgba(60, 64, 67, 0.15);\n",
              "    fill: var(--button-hover-fill-color);\n",
              "  }\n",
              "\n",
              "  .colab-df-quickchart-complete:disabled,\n",
              "  .colab-df-quickchart-complete:disabled:hover {\n",
              "    background-color: var(--disabled-bg-color);\n",
              "    fill: var(--disabled-fill-color);\n",
              "    box-shadow: none;\n",
              "  }\n",
              "\n",
              "  .colab-df-spinner {\n",
              "    border: 2px solid var(--fill-color);\n",
              "    border-color: transparent;\n",
              "    border-bottom-color: var(--fill-color);\n",
              "    animation:\n",
              "      spin 1s steps(1) infinite;\n",
              "  }\n",
              "\n",
              "  @keyframes spin {\n",
              "    0% {\n",
              "      border-color: transparent;\n",
              "      border-bottom-color: var(--fill-color);\n",
              "      border-left-color: var(--fill-color);\n",
              "    }\n",
              "    20% {\n",
              "      border-color: transparent;\n",
              "      border-left-color: var(--fill-color);\n",
              "      border-top-color: var(--fill-color);\n",
              "    }\n",
              "    30% {\n",
              "      border-color: transparent;\n",
              "      border-left-color: var(--fill-color);\n",
              "      border-top-color: var(--fill-color);\n",
              "      border-right-color: var(--fill-color);\n",
              "    }\n",
              "    40% {\n",
              "      border-color: transparent;\n",
              "      border-right-color: var(--fill-color);\n",
              "      border-top-color: var(--fill-color);\n",
              "    }\n",
              "    60% {\n",
              "      border-color: transparent;\n",
              "      border-right-color: var(--fill-color);\n",
              "    }\n",
              "    80% {\n",
              "      border-color: transparent;\n",
              "      border-right-color: var(--fill-color);\n",
              "      border-bottom-color: var(--fill-color);\n",
              "    }\n",
              "    90% {\n",
              "      border-color: transparent;\n",
              "      border-bottom-color: var(--fill-color);\n",
              "    }\n",
              "  }\n",
              "</style>\n",
              "\n",
              "  <script>\n",
              "    async function quickchart(key) {\n",
              "      const quickchartButtonEl =\n",
              "        document.querySelector('#' + key + ' button');\n",
              "      quickchartButtonEl.disabled = true;  // To prevent multiple clicks.\n",
              "      quickchartButtonEl.classList.add('colab-df-spinner');\n",
              "      try {\n",
              "        const charts = await google.colab.kernel.invokeFunction(\n",
              "            'suggestCharts', [key], {});\n",
              "      } catch (error) {\n",
              "        console.error('Error during call to suggestCharts:', error);\n",
              "      }\n",
              "      quickchartButtonEl.classList.remove('colab-df-spinner');\n",
              "      quickchartButtonEl.classList.add('colab-df-quickchart-complete');\n",
              "    }\n",
              "    (() => {\n",
              "      let quickchartButtonEl =\n",
              "        document.querySelector('#df-00bf8f2c-2ba7-4f45-ae5a-c645b77fa6c3 button');\n",
              "      quickchartButtonEl.style.display =\n",
              "        google.colab.kernel.accessAllowed ? 'block' : 'none';\n",
              "    })();\n",
              "  </script>\n",
              "</div>\n",
              "\n",
              "    </div>\n",
              "  </div>\n"
            ],
            "application/vnd.google.colaboratory.intrinsic+json": {
              "type": "dataframe",
              "variable_name": "diabetes_features_scaled",
              "summary": "{\n  \"name\": \"diabetes_features_scaled\",\n  \"rows\": 768,\n  \"fields\": [\n    {\n      \"column\": [\n        \"Pregnancies\"\n      ],\n      \"properties\": {\n        \"dtype\": \"number\",\n        \"std\": 0.673915612539774,\n        \"min\": -0.6,\n        \"max\": 2.8,\n        \"num_unique_values\": 17,\n        \"samples\": [\n          0.6,\n          -0.4,\n          0.0\n        ],\n        \"semantic_type\": \"\",\n        \"description\": \"\"\n      }\n    },\n    {\n      \"column\": [\n        \"Glucose\"\n      ],\n      \"properties\": {\n        \"dtype\": \"number\",\n        \"std\": 0.7750937744275447,\n        \"min\": -2.8363636363636364,\n        \"max\": 1.9878787878787878,\n        \"num_unique_values\": 136,\n        \"samples\": [\n          0.8242424242424242,\n          -0.3878787878787879,\n          -0.12121212121212122\n        ],\n        \"semantic_type\": \"\",\n        \"description\": \"\"\n      }\n    },\n    {\n      \"column\": [\n        \"SkinThickness\"\n      ],\n      \"properties\": {\n        \"dtype\": \"number\",\n        \"std\": 0.49850679899148864,\n        \"min\": -0.71875,\n        \"max\": 2.375,\n        \"num_unique_values\": 51,\n        \"samples\": [\n          -0.5,\n          -0.34375,\n          0.78125\n        ],\n        \"semantic_type\": \"\",\n        \"description\": \"\"\n      }\n    },\n    {\n      \"column\": [\n        \"Insulin\"\n      ],\n      \"properties\": {\n        \"dtype\": \"number\",\n        \"std\": 0.9056503131735809,\n        \"min\": -0.23968565815324164,\n        \"max\": 6.408644400785855,\n        \"num_unique_values\": 186,\n        \"samples\": [\n          0.16895874263261296,\n          0.0825147347740668,\n          1.1984282907662083\n        ],\n        \"semantic_type\": \"\",\n        \"description\": \"\"\n      }\n    },\n    {\n      \"column\": [\n        \"BMI\"\n      ],\n      \"properties\": {\n        \"dtype\": \"number\",\n        \"std\": 0.8477591742339189,\n        \"min\": -3.440860215053763,\n        \"max\": 3.774193548387096,\n        \"num_unique_values\": 248,\n        \"samples\": [\n          -1.3010752688172043,\n          -0.1075268817204301,\n          0.6559139784946237\n        ],\n        \"semantic_type\": \"\",\n        \"description\": \"\"\n      }\n    },\n    {\n      \"column\": [\n        \"DiabetesPedigreeFunction\"\n      ],\n      \"properties\": {\n        \"dtype\": \"number\",\n        \"std\": 0.8662185490530063,\n        \"min\": -0.7699346405228759,\n        \"max\": 5.352941176470589,\n        \"num_unique_values\": 517,\n        \"samples\": [\n          3.5516339869281053,\n          0.13986928104575164,\n          -0.6130718954248366\n        ],\n        \"semantic_type\": \"\",\n        \"description\": \"\"\n      }\n    },\n    {\n      \"column\": [\n        \"Age\"\n      ],\n      \"properties\": {\n        \"dtype\": \"number\",\n        \"std\": 0.6917783259222756,\n        \"min\": -0.47058823529411764,\n        \"max\": 3.0588235294117645,\n        \"num_unique_values\": 52,\n        \"samples\": [\n          1.8235294117647058,\n          1.0588235294117647,\n          2.5294117647058822\n        ],\n        \"semantic_type\": \"\",\n        \"description\": \"\"\n      }\n    }\n  ]\n}"
            }
          },
          "metadata": {},
          "execution_count": 37
        }
      ]
    },
    {
      "cell_type": "markdown",
      "source": [
        "# **Part 2: Splitting our Data and Implementing the Models**"
      ],
      "metadata": {
        "id": "Mq_LjlEyPS9V"
      }
    },
    {
      "cell_type": "code",
      "source": [
        "# Create Test/Train\n",
        "X_train, X_test, y_train, y_test = train_test_split(diabetes_features_scaled, diabetes_label, test_size=0.2, random_state=42)"
      ],
      "metadata": {
        "id": "yQKNZkgYRJpp"
      },
      "execution_count": null,
      "outputs": []
    },
    {
      "cell_type": "markdown",
      "source": [
        "We first divided the dataset into training and testing sets using an 80-20 split in order to evaluate the model's prediction power."
      ],
      "metadata": {
        "id": "IkJSRf9iLVjA"
      }
    },
    {
      "cell_type": "markdown",
      "source": [
        "#**Linear Regression Model**"
      ],
      "metadata": {
        "id": "BOPY-jfPMMa5"
      }
    },
    {
      "cell_type": "code",
      "source": [
        " # add your code here\n",
        "model = LogisticRegression(C=0.5)\n",
        "model.fit(X_train,y_train)\n",
        "\n",
        "predictions = model.predict(X_test)\n",
        "#  Classification Report\n",
        "print('Accuracy', accuracy_score(y_test, predictions))\n",
        "print(classification_report(y_test, predictions))\n",
        "from sklearn.metrics import roc_curve, auc\n",
        "\n",
        "fpr, tpr, _ = roc_curve(y_test, model.predict_proba(X_test)[:, 1])\n",
        "roc_auc = auc(fpr, tpr)\n",
        "\n",
        "plt.figure()\n",
        "plt.plot(fpr, tpr, color = 'darkorange', lw = 2, label = f'ROC curve (area = {roc_auc:0.2f})')\n",
        "plt.plot([0, 1], [0, 1], color = 'blue', lw = 2, linestyle = '--')\n",
        "plt.xlim([0.0, 1.0])\n",
        "plt.ylim([0.0, 1.05])\n",
        "plt.xlabel('False Positive Rate')\n",
        "plt.ylabel('True Positive Rate')\n",
        "plt.title('Receiver Operating Characteristic (ROC) Curve')\n",
        "plt.legend(loc = \"lower right\")\n",
        "plt.show()\n"
      ],
      "metadata": {
        "colab": {
          "base_uri": "https://localhost:8080/",
          "height": 700
        },
        "id": "JyOPseTmdA1s",
        "outputId": "f624d1df-ffb1-4686-a010-9e8ef68f5b5e"
      },
      "execution_count": null,
      "outputs": [
        {
          "output_type": "stream",
          "name": "stderr",
          "text": [
            "/usr/local/lib/python3.10/dist-packages/sklearn/utils/validation.py:1183: DataConversionWarning: A column-vector y was passed when a 1d array was expected. Please change the shape of y to (n_samples, ), for example using ravel().\n",
            "  y = column_or_1d(y, warn=True)\n"
          ]
        },
        {
          "output_type": "stream",
          "name": "stdout",
          "text": [
            "Accuracy 0.7597402597402597\n",
            "              precision    recall  f1-score   support\n",
            "\n",
            "           0       0.81      0.82      0.81        99\n",
            "           1       0.67      0.65      0.66        55\n",
            "\n",
            "    accuracy                           0.76       154\n",
            "   macro avg       0.74      0.74      0.74       154\n",
            "weighted avg       0.76      0.76      0.76       154\n",
            "\n"
          ]
        },
        {
          "output_type": "display_data",
          "data": {
            "text/plain": [
              "<Figure size 640x480 with 1 Axes>"
            ],
            "image/png": "[encoded data removed]"
          },
          "metadata": {}
        }
      ]
    },
    {
      "cell_type": "markdown",
      "source": [
        "# Assessment of the LR Model:\n",
        "To predict the outcomes of diabetes, we trained a Logistic Regression model with a regularization parameter C set to 0.5. In order to prevent overfitting, this parameter regulates how much regularization is given to the model; a lower value indicates more regularization. With an accuracy of 75.97%, the model was able to generate predictions on the test data after being trained on the training set. The precision for class 0 (non-diabetic patients) was 0.81, meaning that 81% of the anticipated cases were accurately classified as non-diabetic. The precision was lower for class 1 (diabetic individuals) at 0.67, indicating that 67% of the projected instances of diabetes were accurately diagnosed. Recall scores for class 0 and class 1 were 0.82 and 0.65, respectively. This indicates that 82% of real cases that were not diabetic and 65% of real patients that were diabetic were correctly classified by the model.\n",
        "The model performs consistently in both classes, as indicated by the weighted average F1-score of 0.76, which takes precision and recall into account. The class 1 recall and precision data, however, point to a major need for improvement. It may be because of the dataset's inherent imbalance or the difficulty of identifying diabetes cases using the variables provided that the model tends to do better at predicting non-diabetic cases than diabetic ones.Additional steps that could be taken to improve the model's prediction power, particularly for class 1, include modifying the regularization parameter, investigating other feature selection strategies, or integrating more sophisticated approaches like ensemble learning. These actions could lead to more balanced performance in both classes and enhance the model's overall accuracy and dependability in forecasting the course of diabetes.\n",
        "# Graph\n",
        "The Logistic Regression model's ROC (Receiver Operating Characteristic) curve sheds light on how well the model can differentiate between patients with and without diabetes. Plotting the True Positive Rate (TPR) or recall against the False Positive Rate (FPR) at various threshold values is what the curve represents. With an area under the ROC curve (AUC) of 0.81, the Logistic Regression model seems to be able to distinguish between the two groups very well. An AUC of 1 would indicate a flawless model, whereas the diagonal line would indicate an AUC of 0.5 for a model lacking discriminative capacity. With a greater TPR and a lower FPR, the ROC curve is far above this diagonal line, indicating that the Logistic Regression classifier works well in properly classifying cases that are diabetic and those that are not."
      ],
      "metadata": {
        "id": "fVXbR9OcK-uF"
      }
    },
    {
      "cell_type": "markdown",
      "source": [
        "#**SVC (Linear Kernel) Model**"
      ],
      "metadata": {
        "id": "BpSXgaHpNjpn"
      }
    },
    {
      "cell_type": "code",
      "source": [
        "# add your code here\n",
        "model = SVC(kernel = 'linear')\n",
        "model.fit(X_train,y_train)\n",
        "\n",
        "predictions = model.predict(X_test)\n",
        "\n",
        "#  Classification Report\n",
        "print('Accuracy', accuracy_score(y_test, predictions))\n",
        "print(classification_report(y_test, predictions))"
      ],
      "metadata": {
        "colab": {
          "base_uri": "https://localhost:8080/"
        },
        "id": "3pwUxx0vdGPq",
        "outputId": "824a37c6-62ab-4e5d-bdf5-1a16106b3666"
      },
      "execution_count": null,
      "outputs": [
        {
          "output_type": "stream",
          "name": "stdout",
          "text": [
            "Accuracy 0.7597402597402597\n",
            "              precision    recall  f1-score   support\n",
            "\n",
            "           0       0.81      0.82      0.81        99\n",
            "           1       0.67      0.65      0.66        55\n",
            "\n",
            "    accuracy                           0.76       154\n",
            "   macro avg       0.74      0.74      0.74       154\n",
            "weighted avg       0.76      0.76      0.76       154\n",
            "\n"
          ]
        },
        {
          "output_type": "stream",
          "name": "stderr",
          "text": [
            "/usr/local/lib/python3.10/dist-packages/sklearn/utils/validation.py:1183: DataConversionWarning: A column-vector y was passed when a 1d array was expected. Please change the shape of y to (n_samples, ), for example using ravel().\n",
            "  y = column_or_1d(y, warn=True)\n"
          ]
        }
      ]
    },
    {
      "cell_type": "markdown",
      "source": [
        "#Assessment of the SVC, with a Linear Kernel, Model:\n",
        "We used a linear kernel Support Vector Classifier (SVC) to forecast diabetes outcomes. 80% of the dataset was used to train the model, while the remaining 20% was used to assess it. The accuracy of the SVC was 75.97%. The recall for class 0 (non-diabetic cases) was 0.82, whereas the recall for class 1 (diabetic cases) was 0.65, per the classification report. Class 0 precision was 0.81, whereas class 1 precision was 0.67. With a weighted average F1-score of 0.76, which indicates balanced performance across both classes, the model performs well overall. But when it comes to predicting cases other than diabetes, it does better. Similar efficacy is suggested by the SVC's performance, which is comparable to that of the Logistic Regression model. However, more fine-tuning is required to increase the model's prediction ability for patients with diabetes; this may entail changing the kernel parameters or looking at different feature selection strategies."
      ],
      "metadata": {
        "id": "WWIdsIDONUz8"
      }
    },
    {
      "cell_type": "markdown",
      "source": [
        "#**SVC (Default Kernel) Model**"
      ],
      "metadata": {
        "id": "5ka04D1bOj3y"
      }
    },
    {
      "cell_type": "code",
      "source": [
        "# add your code here\n",
        "model = SVC()\n",
        "model.fit(X_train,y_train)\n",
        "\n",
        "predictions = model.predict(X_test)\n",
        "\n",
        "#  Classification Report\n",
        "print('Accuracy', accuracy_score(y_test, predictions))\n",
        "print(classification_report(y_test, predictions))"
      ],
      "metadata": {
        "colab": {
          "base_uri": "https://localhost:8080/"
        },
        "id": "nf-vxWMEdMwF",
        "outputId": "588923eb-a9ea-451d-fab7-c20a154c2487"
      },
      "execution_count": null,
      "outputs": [
        {
          "output_type": "stream",
          "name": "stdout",
          "text": [
            "Accuracy 0.7597402597402597\n",
            "              precision    recall  f1-score   support\n",
            "\n",
            "           0       0.79      0.85      0.82        99\n",
            "           1       0.69      0.60      0.64        55\n",
            "\n",
            "    accuracy                           0.76       154\n",
            "   macro avg       0.74      0.72      0.73       154\n",
            "weighted avg       0.75      0.76      0.76       154\n",
            "\n"
          ]
        },
        {
          "output_type": "stream",
          "name": "stderr",
          "text": [
            "/usr/local/lib/python3.10/dist-packages/sklearn/utils/validation.py:1183: DataConversionWarning: A column-vector y was passed when a 1d array was expected. Please change the shape of y to (n_samples, ), for example using ravel().\n",
            "  y = column_or_1d(y, warn=True)\n"
          ]
        }
      ]
    },
    {
      "cell_type": "markdown",
      "source": [
        "#Assessment of The SVC, with a default Kernel, model:\n",
        "To predict the outcomes of diabetes, we used a Support Vector Classifier (SVC) with the standard Radial Basis Function (RBF) kernel. With an accuracy of 75.97%, the model was assessed using test data after being trained on training data. The recall values for class 0 (non-diabetic cases) and class 1 (diabetic cases) were 0.85 and 0.60, respectively, according to the classification report, while the precision values were 0.79 for class 0 and 0.69 for class 1. With a weighted average F1-score of 0.76, which indicates balanced performance, the model did well overall. On the other hand, the model performs better in predicting non-diabetic cases than diabetic cases. The efficiency of the SVC with the RBF kernel is comparable to that of previous models, indicating that further feature engineering and optimization are required to raise prediction accuracy, particularly for individuals with diabetes.\n"
      ],
      "metadata": {
        "id": "2QR40pg_OYph"
      }
    },
    {
      "cell_type": "markdown",
      "source": [
        "#**K-Nearest Neighbors Model**"
      ],
      "metadata": {
        "id": "a7-eJXAKP2BD"
      }
    },
    {
      "cell_type": "code",
      "source": [
        "from sklearn.neighbors import KNeighborsClassifier\n",
        "\n",
        "# add your code here\n",
        "model = KNeighborsClassifier(n_neighbors=6)\n",
        "model.fit(X_train,y_train)\n",
        "\n",
        "predictions = model.predict(X_test)\n",
        "\n",
        "#  Classification Report\n",
        "print('Accuracy', accuracy_score(y_test, predictions))\n",
        "print(classification_report(y_test, predictions))"
      ],
      "metadata": {
        "colab": {
          "base_uri": "https://localhost:8080/"
        },
        "id": "DcbhqwatdPZ5",
        "outputId": "aeedb54f-542b-4a23-fdd6-43bba8a8bf5c"
      },
      "execution_count": null,
      "outputs": [
        {
          "output_type": "stream",
          "name": "stdout",
          "text": [
            "Accuracy 0.7077922077922078\n",
            "              precision    recall  f1-score   support\n",
            "\n",
            "           0       0.73      0.87      0.79        99\n",
            "           1       0.64      0.42      0.51        55\n",
            "\n",
            "    accuracy                           0.71       154\n",
            "   macro avg       0.68      0.64      0.65       154\n",
            "weighted avg       0.70      0.71      0.69       154\n",
            "\n"
          ]
        },
        {
          "output_type": "stream",
          "name": "stderr",
          "text": [
            "/usr/local/lib/python3.10/dist-packages/sklearn/neighbors/_classification.py:233: DataConversionWarning: A column-vector y was passed when a 1d array was expected. Please change the shape of y to (n_samples,), for example using ravel().\n",
            "  return self._fit(X, y)\n"
          ]
        }
      ]
    },
    {
      "cell_type": "markdown",
      "source": [
        "#Assessment of K-Nearest Neighbors Model:\n",
        "Using a K-Nearest Neighbors (KNN) classifier with 𝑘=6, we were able to predict the outcomes of diabetes with a 70.78% accuracy rate. According to the classification report, the precision values for class 0 and class 1 are 0.73 and 0.64, respectively, while the recall values are 0.87 for class 0 (non-diabetic cases) and 0.42 for class 1 (diabetic cases). The model appears to be more successful in predicting non-diabetic patients than diabetic cases, based on the weighted average F1-score of 0.69. The KNN classifier is less effective in identifying diabetic patients, as evidenced by the lower recall and precision for class 1. This calls for more feature research or optimization to enhance the model's performance for this class."
      ],
      "metadata": {
        "id": "WEdF2lnDPt2k"
      }
    },
    {
      "cell_type": "markdown",
      "source": [
        "#**Decision Tree Classifier Model**"
      ],
      "metadata": {
        "id": "45QpqmgBQDFm"
      }
    },
    {
      "cell_type": "code",
      "source": [
        "# add your code here\n",
        "model = DecisionTreeClassifier(max_depth = 2)\n",
        "model.fit(X_train,y_train)\n",
        "\n",
        "predictions = model.predict(X_test)\n",
        "\n",
        "#  Classification Report\n",
        "print('Accuracy', accuracy_score(y_test, predictions))\n",
        "print(classification_report(y_test, predictions))\n",
        "\n",
        "importances = model.feature_importances_\n",
        "indices = np.argsort(importances)[::-1]\n",
        "\n",
        "plt.figure(figsize = (10, 5))\n",
        "plt.title(\"Feature Importances\")\n",
        "plt.bar(range(X_train.shape[1]), importances[indices], align = \"center\")\n",
        "plt.xticks(range(X_train.shape[1]), diabetes_features.columns[indices], rotation=90)\n",
        "plt.xlim([-1, X_train.shape[1]])\n",
        "plt.show()\n",
        "\n"
      ],
      "metadata": {
        "colab": {
          "base_uri": "https://localhost:8080/",
          "height": 809
        },
        "id": "fKJbrWp_dWJI",
        "outputId": "581ce213-602a-42b5-e853-298293f34023"
      },
      "execution_count": null,
      "outputs": [
        {
          "output_type": "stream",
          "name": "stdout",
          "text": [
            "Accuracy 0.7727272727272727\n",
            "              precision    recall  f1-score   support\n",
            "\n",
            "           0       0.79      0.88      0.83        99\n",
            "           1       0.73      0.58      0.65        55\n",
            "\n",
            "    accuracy                           0.77       154\n",
            "   macro avg       0.76      0.73      0.74       154\n",
            "weighted avg       0.77      0.77      0.77       154\n",
            "\n"
          ]
        },
        {
          "output_type": "display_data",
          "data": {
            "text/plain": [
              "<Figure size 1000x500 with 1 Axes>"
            ],
            "image/png": "[encoded data removed]"
          },
          "metadata": {}
        }
      ]
    },
    {
      "cell_type": "markdown",
      "source": [
        "# Assessment of Decision Tree Classifier Model:\n",
        "To predict diabetes outcomes, we used a Decision Tree classifier with a maximum depth of 2. With an accuracy rate of 77.27%, the model demonstrated good overall performance. The model had a recall of 0.88 for class 0 patients (those without diabetes) and 0.58 for class 1 patients (those with diabetes), with a precision of 0.79 for both classes, per the classification report. This produced a weighted average F1-score of 0.77, which demonstrated how well the model predicted non-diabetic instances. On the other hand, the reduced recall for individuals with diabetes implies that the model may not be able to identify all real positive cases of diabetes. The difference in recall scores between class 0 and class 1 emphasizes the need for more sophisticated techniques or parameter adjustments to attain a better balance and enhance the model's capacity to identify diabetes patients. Adjusting the maximum depth or investigating ensemble approaches are two further model improvement strategies that could improve the predicted accuracy and guarantee a more equal recall rate for both classes.\n",
        "\n",
        "# Graph:\n",
        "With an importance score just above 0.6, the Decision Tree model's feature importance graph shows that glucose is the most important predictor of diabetes. This great significance makes sense because one of the main signs of diabetes is elevated glucose levels. With an importance value of about 0.2, BMI is the second most significant feature, indicating its status as a well-known risk factor for diabetes. Since the risk of diabetes rises with age, age also has a noteworthy significance score—slightly less than 0.2—indicating its relevance in the model. In this specific Decision Tree with a maximum depth of 2, other features like DiabetesPedigreeFunction, Insulin, SkinThickness, and Pregnancies have a relevance score of 0, indicating that they did not significantly contribute to the model's predictions. This shows that these features were not used in this particular model design, but it does not mean that these features are unimportant for diabetes prediction in general. Future model advancements, such deepening the tree or utilizing more complex models that utilize the entire set of features, can be guided by this realization."
      ],
      "metadata": {
        "id": "q23fYay-RzuM"
      }
    },
    {
      "cell_type": "markdown",
      "source": [
        "#**Cross-Validation LR:**\n",
        "Using 5-fold cross-validation on the training set of data, we developed a Logistic Regression model for predicting diabetes outcomes. A reliable technique for evaluating the model's performance is cross-validation, which involves dividing the dataset into five subsets, training the model on four of them, and verifying it on the fifth. Each of the five iterations of this approach serves as the validation set once."
      ],
      "metadata": {
        "id": "48adx7BvSe5U"
      }
    },
    {
      "cell_type": "code",
      "source": [
        "# Create a Logistic Regression model\n",
        "model = LogisticRegression()\n",
        "\n",
        "# Perform 5-fold cross-validation\n",
        "scores = cross_val_score(model, X_train, y_train, cv=5)\n",
        "\n",
        "# Calculate the average cross-validation score\n",
        "average_score = scores.mean()\n",
        "\n",
        "# Print the average cross-validation score\n",
        "print(f\"Average Cross-Validation Score: {average_score}\")"
      ],
      "metadata": {
        "colab": {
          "base_uri": "https://localhost:8080/"
        },
        "id": "c_c3FJdGdtOw",
        "outputId": "b0d72e3e-0816-4855-84b2-530a91d06a64"
      },
      "execution_count": null,
      "outputs": [
        {
          "output_type": "stream",
          "name": "stdout",
          "text": [
            "Average Cross-Validation Score: 0.7638811142209783\n"
          ]
        },
        {
          "output_type": "stream",
          "name": "stderr",
          "text": [
            "/usr/local/lib/python3.10/dist-packages/sklearn/utils/validation.py:1183: DataConversionWarning: A column-vector y was passed when a 1d array was expected. Please change the shape of y to (n_samples, ), for example using ravel().\n",
            "  y = column_or_1d(y, warn=True)\n",
            "/usr/local/lib/python3.10/dist-packages/sklearn/utils/validation.py:1183: DataConversionWarning: A column-vector y was passed when a 1d array was expected. Please change the shape of y to (n_samples, ), for example using ravel().\n",
            "  y = column_or_1d(y, warn=True)\n",
            "/usr/local/lib/python3.10/dist-packages/sklearn/utils/validation.py:1183: DataConversionWarning: A column-vector y was passed when a 1d array was expected. Please change the shape of y to (n_samples, ), for example using ravel().\n",
            "  y = column_or_1d(y, warn=True)\n",
            "/usr/local/lib/python3.10/dist-packages/sklearn/utils/validation.py:1183: DataConversionWarning: A column-vector y was passed when a 1d array was expected. Please change the shape of y to (n_samples, ), for example using ravel().\n",
            "  y = column_or_1d(y, warn=True)\n",
            "/usr/local/lib/python3.10/dist-packages/sklearn/utils/validation.py:1183: DataConversionWarning: A column-vector y was passed when a 1d array was expected. Please change the shape of y to (n_samples, ), for example using ravel().\n",
            "  y = column_or_1d(y, warn=True)\n"
          ]
        }
      ]
    },
    {
      "cell_type": "markdown",
      "source": [
        "#Assessment of Cross-Validation LR Model:\n",
        "Attaining an average cross-validation score of 0.764, the Logistic Regression model accurately predicts the outcome for 76.4% of the cases, on average, across various subsets of the training data. Based on this score, the model appears to have good data generalization skills. The results show that the model is well-balanced and not noticeably overfitting or underfitting when the cross-validation score is compared with the training and test accuracy. The model's predictive abilities can be trusted because of its consistent performance over folds and the similarity between test and training accuracy. Although the model works well, it might be more accurate with additional parameter adjustments, such as changing the regularization factor. Based on the available dataset, the Logistic Regression model is a good option overall for predicting diabetes outcomes."
      ],
      "metadata": {
        "id": "iqkM8TUGSucw"
      }
    },
    {
      "cell_type": "markdown",
      "source": [
        "#**AdaBoost Classifier Model:**"
      ],
      "metadata": {
        "id": "o_YaETIvS-oQ"
      }
    },
    {
      "cell_type": "code",
      "source": [
        "model = AdaBoostClassifier(n_estimators = 100, algorithm = 'SAMME', random_state = 0)\n",
        "model.fit(X_train,y_train)\n",
        "\n",
        "predictions = model.predict(X_test)\n",
        "\n",
        "#  Classification Report\n",
        "print('Accuracy', accuracy_score(y_test, predictions))\n",
        "print(classification_report(y_test, predictions))"
      ],
      "metadata": {
        "colab": {
          "base_uri": "https://localhost:8080/"
        },
        "id": "5uy-oc8kVTgP",
        "outputId": "36b6def2-8aeb-4522-ee65-1a2a15ee659a"
      },
      "execution_count": null,
      "outputs": [
        {
          "output_type": "stream",
          "name": "stderr",
          "text": [
            "/usr/local/lib/python3.10/dist-packages/sklearn/utils/validation.py:1183: DataConversionWarning: A column-vector y was passed when a 1d array was expected. Please change the shape of y to (n_samples, ), for example using ravel().\n",
            "  y = column_or_1d(y, warn=True)\n"
          ]
        },
        {
          "output_type": "stream",
          "name": "stdout",
          "text": [
            "Accuracy 0.7402597402597403\n",
            "              precision    recall  f1-score   support\n",
            "\n",
            "           0       0.79      0.81      0.80        99\n",
            "           1       0.64      0.62      0.63        55\n",
            "\n",
            "    accuracy                           0.74       154\n",
            "   macro avg       0.72      0.71      0.71       154\n",
            "weighted avg       0.74      0.74      0.74       154\n",
            "\n"
          ]
        }
      ]
    },
    {
      "cell_type": "markdown",
      "source": [
        "#Assessment of AdaBoost Classifier Model:\n",
        "We used the SAMME algorithm with 100 estimators to create an AdaBoost classifier to predict diabetes outcomes. The accuracy of the model was 74.03%. An extensive study of the model's performance in both classes is included in the classification report. The model produced an F1-score of 0.80, a recall of 0.81, and a precision of 0.79 for class 0 (non-diabetic cases). With 81% of true non-diabetic cases properly detected and 79% of predicted non-diabetic cases being true positives, this suggests that the model is highly good at identifying non-diabetic persons. The model performed worse for class 1 (diabetic cases), with an F1-score of 0.63, a precision of 0.64, and a recall of 0.62. This implies that although the model is able to detect cases of diabetes, it is not as accurate and fails to detect a significant number of real-world cases of diabetes. The model's balanced performance in both classes is indicated by the overall weighted average F1-score of 0.74. The model struggles with diabetic instances, although doing well for non-diabetic cases, as shown by the decreased precision and recall for class 1. This discrepancy suggests that in order to improve the prediction of diabetes cases and get a more balanced performance, additional refinement is necessary, which may involve adjusting the model's parameters or investigating new features."
      ],
      "metadata": {
        "id": "tj2N2ZKtTeUv"
      }
    },
    {
      "cell_type": "markdown",
      "source": [
        "# **Part 3: Ablation Testing**"
      ],
      "metadata": {
        "id": "L0C6RYA4R-j9"
      }
    },
    {
      "cell_type": "code",
      "source": [
        "from sklearn.model_selection import cross_val_score\n",
        "import numpy\n",
        "\n",
        "# Let's run ablation tests on our best model\n",
        "# You could choose any model to do this test\n",
        "best_model = DecisionTreeClassifier(max_depth = 2)\n",
        "\n",
        "feature_names = diabetes_features.columns\n",
        "\n",
        "# Let's maintain an accuracy dictionary\n",
        "# We first compute the accuracy without ablation using K-fold cross validation\n",
        "\n",
        "cv_scores = cross_val_score(best_model, X_train, y_train, cv=5, n_jobs=4)\n",
        "average_cv_score_with_all_features = cv_scores.mean()\n",
        "\n",
        "accuracy_drop_log = {\"No ablation\":0}\n",
        "\n",
        "for i in range(len(feature_names)):\n",
        "    # we are going to drop one feature at a time\n",
        "    feature_name = feature_names[i]\n",
        "    print (f\"Removing feature {feature_name}\")\n",
        "\n",
        "    # Remmeber? We have the train + valid data in the above section?\n",
        "    # We just remove the feature by not selecting the column from the index i\n",
        "\n",
        "    x_ablated = numpy.delete(X_train,i,axis=1) # axis = 1 means columns\n",
        "\n",
        "    cv_scores = cross_val_score(best_model,x_ablated,y_train, cv=5, n_jobs=4)\n",
        "    average_cv_score = cv_scores.mean()\n",
        "    print (f\"Mean cross validation accuracy = {average_cv_score}\")\n",
        "    accuracy_drop_log[feature_name] = average_cv_score_with_all_features-average_cv_score"
      ],
      "metadata": {
        "id": "wfllYVlkeCWD",
        "colab": {
          "base_uri": "https://localhost:8080/"
        },
        "outputId": "0c916420-7b25-4731-a35c-97c608c3c580"
      },
      "execution_count": null,
      "outputs": [
        {
          "output_type": "stream",
          "name": "stdout",
          "text": [
            "Removing feature Pregnancies\n",
            "Mean cross validation accuracy = 0.7557377049180328\n",
            "Removing feature Glucose\n",
            "Mean cross validation accuracy = 0.7036118885779021\n",
            "Removing feature SkinThickness\n",
            "Mean cross validation accuracy = 0.7557377049180328\n",
            "Removing feature Insulin\n",
            "Mean cross validation accuracy = 0.7573637211781954\n",
            "Removing feature BMI\n",
            "Mean cross validation accuracy = 0.724776755964281\n",
            "Removing feature DiabetesPedigreeFunction\n",
            "Mean cross validation accuracy = 0.7557377049180328\n",
            "Removing feature Age\n",
            "Mean cross validation accuracy = 0.7557377049180328\n"
          ]
        }
      ]
    },
    {
      "cell_type": "markdown",
      "source": [
        "#Assessment of Ablation Testing:\n",
        "Using our best-performing model, a Decision Tree classifier with a maximum depth of 2, we performed ablation testing to evaluate the importance of each feature in predicting diabetes outcomes. In ablation testing, every feature in the model is methodically removed, and the effect on performance is evaluated. This technique aids in determining which characteristics are essential for precise forecasting. 5-fold cross-validation was used to assess how each feature's removal affected the model's functionality. Its crucial importance in the model's predictions is highlighted by the results, which demonstrated that eliminating \"Glucose\" caused a considerable decline in accuracy from 0.7557 to 0.7036. Its significance was further demonstrated by the fact that the absence of \"BMI\" caused the accuracy to drop to 0.7248. Both glucose and BMI are critical parameters for accurate diabetes predicting, as these results demonstrate. In order to create a more targeted and effective model, ablation testing also aids in the identification of less important aspects. We can simplify the model and possibly increase its capacity for generalization by removing elements that have no effect on performance. In order to accurately forecast diabetes, this study shows that glucose and BMI are essential. This information will direct future efforts in feature selection and model optimization. By prioritizing the most significant attributes, this method improves the predictive model's overall efficacy and dependability."
      ],
      "metadata": {
        "id": "NtNtcEFFULJM"
      }
    },
    {
      "cell_type": "markdown",
      "source": [
        "# **Part 4: Conclusion and Observations**"
      ],
      "metadata": {
        "id": "GY9YkCOuSBsk"
      }
    },
    {
      "cell_type": "markdown",
      "source": [
        "Using a variety of predictive algorithms generated from publicly available medical and demographic data, we examined the impact of body mass index (BMI), insulin, and glucose levels on diabetes outcomes in this study. Our goal was to find a financially sound approach to estimate the risk of diabetes. The Decision Tree classifier with a maximum depth of 2 was the most effective, achieving an accuracy of 77.27%. While it excelled at predicting non-diabetic cases, it struggled with identifying diabetic patients, highlighting the challenge of balancing sensitivity and specificity in medical diagnostics. The ablation study was essential in determining the importance of each feature in the model's predictive ability. Removing BMI and glucose significantly reduced accuracy, underscoring their critical role. These findings support the hypothesis that higher BMI and glucose levels are directly correlated with an increased risk of developing diabetes. The superior performance of the models in predicting non-diabetic patients could be due to the complexity of diabetes or the dataset's class imbalance. Traditional models like Logistic Regression and K-Nearest Neighbors provided foundational insights, while more sophisticated techniques like the Decision Tree and AdaBoost offered enhanced predictive capabilities. The ROC curve for the Logistic Regression model, with an AUC of 0.81, demonstrated a strong ability to distinguish between diabetic and non-diabetic cases, although further tuning is needed to improve recall and precision for diabetic subjects. The study's findings have significant implications for public health, particularly in areas with limited access to medical diagnostics. The Decision Tree model, leveraging easily obtainable data points like BMI and glucose levels, presents a viable method for early diabetes screening. This approach can empower individuals to manage their health proactively, potentially improving outcomes and reducing healthcare costs. Future research should focus on incorporating more relevant features and exploring advanced machine learning methods to develop more accurate and balanced predictive models. In conclusion, the research validates the hypothesis that higher BMI and glucose levels are crucial in predicting the likelihood of developing diabetes. Supported by feature importance analysis and robust performance metrics, the Decision Tree model offers a promising path toward creating accessible and efficient diabetes screening tools. By prioritizing the most significant predictors and iteratively refining the models, we can improve diagnostic accuracy, enhance public health outcomes, and reduce the burden on healthcare systems."
      ],
      "metadata": {
        "id": "O6MgzNFiV4RR"
      }
    }
  ]
}